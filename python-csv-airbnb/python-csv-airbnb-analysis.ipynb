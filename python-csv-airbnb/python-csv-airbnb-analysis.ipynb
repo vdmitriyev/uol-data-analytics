{
 "cells": [
  {
   "cell_type": "markdown",
   "metadata": {},
   "source": [
    "## About \n",
    "\n",
    "A simple python utility that downloads data from the following web portal in form of CSV and performs basic EDA:\n",
    "\n",
    "* http://insideairbnb.com/get-the-data.html"
   ]
  },
  {
   "cell_type": "markdown",
   "metadata": {},
   "source": [
    "## Additional dependencies\n",
    "\n",
    "* See ```requirements.txt``` file"
   ]
  },
  {
   "cell_type": "code",
   "execution_count": 1,
   "metadata": {},
   "outputs": [],
   "source": [
    "%matplotlib inline\n",
    "\n",
    "import os\n",
    "import requests\n",
    "import pandas as pd\n",
    "import urllib.parse as urlparse"
   ]
  },
  {
   "cell_type": "code",
   "execution_count": 2,
   "metadata": {},
   "outputs": [],
   "source": [
    "import numpy as np\n",
    "import matplotlib.pyplot as plt\n",
    "from pylab import rcParams\n",
    "\n",
    "# global IPython settings\n",
    "plt.style.use('ggplot')\n",
    "\n",
    "#np.set_printoptions(precision=3)\n",
    "np.set_printoptions(formatter={'float': '{: 0.3f}'.format})\n",
    "\n",
    "# plt\n",
    "rcParams['figure.figsize'] = 25, 12\n",
    "\n",
    "# disabling some warnings\n",
    "pd.options.mode.chained_assignment = None  # default='warn'"
   ]
  },
  {
   "cell_type": "markdown",
   "metadata": {},
   "source": [
    "## Download archives with data\n",
    "\n",
    "* You may need to open archive to read csv, or read them directly in Python"
   ]
  },
  {
   "cell_type": "code",
   "execution_count": 3,
   "metadata": {},
   "outputs": [],
   "source": [
    "def download(url, force_download=False):\n",
    "    \"\"\" Downloads given URL and saves a local file\"\"\"\n",
    "    \n",
    "    DATA_DIR = 'data'\n",
    "    if not os.path.exists(DATA_DIR):\n",
    "        print('[i] create following folder: {0}'.format(DATA_DIR))\n",
    "        os.makedirs(DATA_DIR)\n",
    "            \n",
    "    r = requests.get(url, stream=True)\n",
    "    \n",
    "    if r.status_code == 200:\n",
    "        _urlparse = urlparse.urlparse(url)\n",
    "        f_name = os.path.join(DATA_DIR, os.path.basename(_urlparse.path))\n",
    "        if (not os.path.exists(f_name) or force_download):\n",
    "            print('[i] start download for of the url: {}'.format(url))\n",
    "            print('[i] target file: {}'.format(f_name))\n",
    "            with open(f_name, 'wb') as fd:\n",
    "                for chunk in r.iter_content(chunk_size=1024):\n",
    "                    fd.write(chunk)\n",
    "            print('[i] finish download')\n",
    "    else:\n",
    "        print('[e] Wrong request status code: {0}'.format(r.status_code))\n",
    "        \n",
    "    return f_name "
   ]
  },
  {
   "cell_type": "code",
   "execution_count": 4,
   "metadata": {},
   "outputs": [
    {
     "name": "stdout",
     "output_type": "stream",
     "text": [
      "[i] start download for of the url: http://data.insideairbnb.com/germany/be/berlin/2020-03-17/data/listings.csv.gz\n",
      "[i] target file: data\\listings.csv.gz\n",
      "[i] finish download\n",
      "[i] start download for of the url: http://data.insideairbnb.com/germany/be/berlin/2020-03-17/data/calendar.csv.gz\n",
      "[i] target file: data\\calendar.csv.gz\n",
      "[i] finish download\n",
      "[i] start download for of the url: http://data.insideairbnb.com/germany/be/berlin/2020-03-17/data/reviews.csv.gz\n",
      "[i] target file: data\\reviews.csv.gz\n",
      "[i] finish download\n",
      "[i] start download for of the url: http://data.insideairbnb.com/germany/be/berlin/2020-03-17/visualisations/listings.csv\n",
      "[i] target file: data\\listings.csv\n",
      "[i] finish download\n",
      "[i] start download for of the url: http://data.insideairbnb.com/germany/be/berlin/2020-03-17/visualisations/reviews.csv\n",
      "[i] target file: data\\reviews.csv\n",
      "[i] finish download\n",
      "[i] start download for of the url: http://data.insideairbnb.com/germany/be/berlin/2020-03-17/visualisations/neighbourhoods.csv\n",
      "[i] target file: data\\neighbourhoods.csv\n",
      "[i] finish download\n"
     ]
    }
   ],
   "source": [
    "#\n",
    "# date to download (for simplification)\n",
    "#\n",
    "date_to_download = '2020-03-17'\n",
    "\n",
    "# listings\n",
    "listings = \"http://data.insideairbnb.com/germany/be/berlin/{date}/data/listings.csv.gz\".format(date=date_to_download)\n",
    "listings = download(listings, True)\n",
    "\n",
    "# calendar\n",
    "calendar = \"http://data.insideairbnb.com/germany/be/berlin/{date}/data/calendar.csv.gz\".format(date=date_to_download)\n",
    "calendar = download(calendar, True)\n",
    "\n",
    "# reviews\n",
    "reviews = \"http://data.insideairbnb.com/germany/be/berlin/{date}/data/reviews.csv.gz\".format(date=date_to_download)\n",
    "reviews = download(reviews, True)\n",
    "\n",
    "# listings (good for visualisations)\n",
    "listings_vis = \"http://data.insideairbnb.com/germany/be/berlin/{date}/visualisations/listings.csv\".format(date=date_to_download)\n",
    "listings_vis = download(listings_vis, True)\n",
    "\n",
    "# Summary Review data and Listing ID (to facilitate time based analytics and visualisations linked to a listing)\n",
    "reviews_vis = \"http://data.insideairbnb.com/germany/be/berlin/{date}/visualisations/reviews.csv\".format(date=date_to_download)\n",
    "reviews_vis = download(reviews_vis, True)\n",
    "\n",
    "# neighbourhoods\n",
    "neighbourhoods = \"http://data.insideairbnb.com/germany/be/berlin/{date}/visualisations/neighbourhoods.csv\".format(date=date_to_download)\n",
    "neighbourhoods = download(neighbourhoods, True)"
   ]
  },
  {
   "cell_type": "markdown",
   "metadata": {},
   "source": [
    "### Read and view metadata of downloaded data"
   ]
  },
  {
   "cell_type": "markdown",
   "metadata": {},
   "source": [
    "*Data description (provided by data source orign)*\n",
    "\n",
    "* listings.csv.gz\n",
    "    + Detailed Listings data for Berlin\n",
    "* calendar.csv.gz\n",
    "    + Detailed Calendar Data for listings in Berlin\n",
    "* reviews.csv.gz\n",
    "    + Detailed Review Data for listings in Berlin\n",
    "* listings.csv\n",
    "    + Summary information and metrics for listings in Berlin (good for visualisations).\n",
    "* reviews.csv\n",
    "    + \tSummary Review data and Listing ID (to facilitate time based analytics and visualisations linked to a listing).\n",
    "* neighbourhoods.csv\n",
    "    + Neighbourhood list for geo filter. Sourced from city or open source GIS files.\n",
    "* neighbourhoods.geojson\n",
    "    + ... \n"
   ]
  },
  {
   "cell_type": "markdown",
   "metadata": {},
   "source": [
    "##### Data in the <u>listings.csv.gz</u>"
   ]
  },
  {
   "cell_type": "code",
   "execution_count": 5,
   "metadata": {},
   "outputs": [
    {
     "name": "stderr",
     "output_type": "stream",
     "text": [
      "C:\\Soft\\Anaconda3\\lib\\site-packages\\IPython\\core\\interactiveshell.py:3049: DtypeWarning: Columns (43,61,62) have mixed types. Specify dtype option on import or set low_memory=False.\n",
      "  interactivity=interactivity, compiler=compiler, result=result)\n"
     ]
    }
   ],
   "source": [
    "# read compressed data \n",
    "\n",
    "listings_df_gz = pd.read_csv('data/listings.csv.gz', compression='gzip', error_bad_lines=False)"
   ]
  },
  {
   "cell_type": "code",
   "execution_count": 6,
   "metadata": {},
   "outputs": [
    {
     "data": {
      "text/plain": [
       "Index(['id', 'listing_url', 'scrape_id', 'last_scraped', 'name', 'summary',\n",
       "       'space', 'description', 'experiences_offered', 'neighborhood_overview',\n",
       "       ...\n",
       "       'instant_bookable', 'is_business_travel_ready', 'cancellation_policy',\n",
       "       'require_guest_profile_picture', 'require_guest_phone_verification',\n",
       "       'calculated_host_listings_count',\n",
       "       'calculated_host_listings_count_entire_homes',\n",
       "       'calculated_host_listings_count_private_rooms',\n",
       "       'calculated_host_listings_count_shared_rooms', 'reviews_per_month'],\n",
       "      dtype='object', length=106)"
      ]
     },
     "execution_count": 6,
     "metadata": {},
     "output_type": "execute_result"
    }
   ],
   "source": [
    "# columns\n",
    "\n",
    "listings_df_gz.columns"
   ]
  },
  {
   "cell_type": "code",
   "execution_count": 7,
   "metadata": {},
   "outputs": [
    {
     "data": {
      "text/plain": [
       "(25164, 106)"
      ]
     },
     "execution_count": 7,
     "metadata": {},
     "output_type": "execute_result"
    }
   ],
   "source": [
    "# amount of data\n",
    "\n",
    "listings_df_gz.shape"
   ]
  },
  {
   "cell_type": "code",
   "execution_count": 8,
   "metadata": {},
   "outputs": [
    {
     "data": {
      "text/html": [
       "<div>\n",
       "<style scoped>\n",
       "    .dataframe tbody tr th:only-of-type {\n",
       "        vertical-align: middle;\n",
       "    }\n",
       "\n",
       "    .dataframe tbody tr th {\n",
       "        vertical-align: top;\n",
       "    }\n",
       "\n",
       "    .dataframe thead th {\n",
       "        text-align: right;\n",
       "    }\n",
       "</style>\n",
       "<table border=\"1\" class=\"dataframe\">\n",
       "  <thead>\n",
       "    <tr style=\"text-align: right;\">\n",
       "      <th></th>\n",
       "      <th>id</th>\n",
       "      <th>listing_url</th>\n",
       "      <th>scrape_id</th>\n",
       "      <th>last_scraped</th>\n",
       "      <th>name</th>\n",
       "      <th>summary</th>\n",
       "      <th>space</th>\n",
       "      <th>description</th>\n",
       "      <th>experiences_offered</th>\n",
       "      <th>neighborhood_overview</th>\n",
       "      <th>...</th>\n",
       "      <th>instant_bookable</th>\n",
       "      <th>is_business_travel_ready</th>\n",
       "      <th>cancellation_policy</th>\n",
       "      <th>require_guest_profile_picture</th>\n",
       "      <th>require_guest_phone_verification</th>\n",
       "      <th>calculated_host_listings_count</th>\n",
       "      <th>calculated_host_listings_count_entire_homes</th>\n",
       "      <th>calculated_host_listings_count_private_rooms</th>\n",
       "      <th>calculated_host_listings_count_shared_rooms</th>\n",
       "      <th>reviews_per_month</th>\n",
       "    </tr>\n",
       "  </thead>\n",
       "  <tbody>\n",
       "    <tr>\n",
       "      <th>0</th>\n",
       "      <td>3176</td>\n",
       "      <td>https://www.airbnb.com/rooms/3176</td>\n",
       "      <td>20200317045838</td>\n",
       "      <td>2020-03-17</td>\n",
       "      <td>Fabulous Flat in great Location</td>\n",
       "      <td>This beautiful first floor apartment  is situa...</td>\n",
       "      <td>1st floor (68m2) apartment on Kollwitzplatz/ P...</td>\n",
       "      <td>This beautiful first floor apartment  is situa...</td>\n",
       "      <td>none</td>\n",
       "      <td>The neighbourhood is famous for its variety of...</td>\n",
       "      <td>...</td>\n",
       "      <td>f</td>\n",
       "      <td>f</td>\n",
       "      <td>strict_14_with_grace_period</td>\n",
       "      <td>f</td>\n",
       "      <td>f</td>\n",
       "      <td>1</td>\n",
       "      <td>1</td>\n",
       "      <td>0</td>\n",
       "      <td>0</td>\n",
       "      <td>1.11</td>\n",
       "    </tr>\n",
       "    <tr>\n",
       "      <th>1</th>\n",
       "      <td>3309</td>\n",
       "      <td>https://www.airbnb.com/rooms/3309</td>\n",
       "      <td>20200317045838</td>\n",
       "      <td>2020-03-17</td>\n",
       "      <td>BerlinSpot Schöneberg near KaDeWe</td>\n",
       "      <td>First of all: I prefer short-notice bookings. ...</td>\n",
       "      <td>Your room is really big and has 26 sqm, is ver...</td>\n",
       "      <td>First of all: I prefer short-notice bookings. ...</td>\n",
       "      <td>none</td>\n",
       "      <td>My flat is in the middle of West-Berlin, direc...</td>\n",
       "      <td>...</td>\n",
       "      <td>f</td>\n",
       "      <td>f</td>\n",
       "      <td>strict_14_with_grace_period</td>\n",
       "      <td>f</td>\n",
       "      <td>f</td>\n",
       "      <td>1</td>\n",
       "      <td>0</td>\n",
       "      <td>1</td>\n",
       "      <td>0</td>\n",
       "      <td>0.34</td>\n",
       "    </tr>\n",
       "    <tr>\n",
       "      <th>2</th>\n",
       "      <td>6883</td>\n",
       "      <td>https://www.airbnb.com/rooms/6883</td>\n",
       "      <td>20200317045838</td>\n",
       "      <td>2020-03-17</td>\n",
       "      <td>Stylish East Side Loft in Center with AC &amp; 2 b...</td>\n",
       "      <td>NaN</td>\n",
       "      <td>Stay in a stylish loft on the second floor and...</td>\n",
       "      <td>Stay in a stylish loft on the second floor and...</td>\n",
       "      <td>none</td>\n",
       "      <td>The emerging and upcoming East of the new hip ...</td>\n",
       "      <td>...</td>\n",
       "      <td>f</td>\n",
       "      <td>f</td>\n",
       "      <td>moderate</td>\n",
       "      <td>f</td>\n",
       "      <td>t</td>\n",
       "      <td>1</td>\n",
       "      <td>1</td>\n",
       "      <td>0</td>\n",
       "      <td>0</td>\n",
       "      <td>1.08</td>\n",
       "    </tr>\n",
       "    <tr>\n",
       "      <th>3</th>\n",
       "      <td>7071</td>\n",
       "      <td>https://www.airbnb.com/rooms/7071</td>\n",
       "      <td>20200317045838</td>\n",
       "      <td>2020-03-17</td>\n",
       "      <td>BrightRoom with sunny greenview!</td>\n",
       "      <td>Cozy and large room in the beautiful district ...</td>\n",
       "      <td>The BrightRoom is an approx. 20 sqm (215ft²), ...</td>\n",
       "      <td>Cozy and large room in the beautiful district ...</td>\n",
       "      <td>none</td>\n",
       "      <td>Great neighborhood with plenty of Cafés, Baker...</td>\n",
       "      <td>...</td>\n",
       "      <td>f</td>\n",
       "      <td>f</td>\n",
       "      <td>moderate</td>\n",
       "      <td>f</td>\n",
       "      <td>f</td>\n",
       "      <td>2</td>\n",
       "      <td>0</td>\n",
       "      <td>2</td>\n",
       "      <td>0</td>\n",
       "      <td>2.27</td>\n",
       "    </tr>\n",
       "    <tr>\n",
       "      <th>4</th>\n",
       "      <td>9991</td>\n",
       "      <td>https://www.airbnb.com/rooms/9991</td>\n",
       "      <td>20200317045838</td>\n",
       "      <td>2020-03-17</td>\n",
       "      <td>Geourgeous flat - outstanding views</td>\n",
       "      <td>4 bedroom with very large windows and outstand...</td>\n",
       "      <td>THE APPARTMENT - 4 bedroom (US, Germany: 5 roo...</td>\n",
       "      <td>4 bedroom with very large windows and outstand...</td>\n",
       "      <td>none</td>\n",
       "      <td>Prenzlauer Berg is an amazing neighbourhood wh...</td>\n",
       "      <td>...</td>\n",
       "      <td>f</td>\n",
       "      <td>f</td>\n",
       "      <td>strict_14_with_grace_period</td>\n",
       "      <td>f</td>\n",
       "      <td>f</td>\n",
       "      <td>1</td>\n",
       "      <td>1</td>\n",
       "      <td>0</td>\n",
       "      <td>0</td>\n",
       "      <td>0.14</td>\n",
       "    </tr>\n",
       "  </tbody>\n",
       "</table>\n",
       "<p>5 rows × 106 columns</p>\n",
       "</div>"
      ],
      "text/plain": [
       "     id                        listing_url       scrape_id last_scraped  \\\n",
       "0  3176  https://www.airbnb.com/rooms/3176  20200317045838   2020-03-17   \n",
       "1  3309  https://www.airbnb.com/rooms/3309  20200317045838   2020-03-17   \n",
       "2  6883  https://www.airbnb.com/rooms/6883  20200317045838   2020-03-17   \n",
       "3  7071  https://www.airbnb.com/rooms/7071  20200317045838   2020-03-17   \n",
       "4  9991  https://www.airbnb.com/rooms/9991  20200317045838   2020-03-17   \n",
       "\n",
       "                                                name  \\\n",
       "0                    Fabulous Flat in great Location   \n",
       "1                  BerlinSpot Schöneberg near KaDeWe   \n",
       "2  Stylish East Side Loft in Center with AC & 2 b...   \n",
       "3                   BrightRoom with sunny greenview!   \n",
       "4                Geourgeous flat - outstanding views   \n",
       "\n",
       "                                             summary  \\\n",
       "0  This beautiful first floor apartment  is situa...   \n",
       "1  First of all: I prefer short-notice bookings. ...   \n",
       "2                                                NaN   \n",
       "3  Cozy and large room in the beautiful district ...   \n",
       "4  4 bedroom with very large windows and outstand...   \n",
       "\n",
       "                                               space  \\\n",
       "0  1st floor (68m2) apartment on Kollwitzplatz/ P...   \n",
       "1  Your room is really big and has 26 sqm, is ver...   \n",
       "2  Stay in a stylish loft on the second floor and...   \n",
       "3  The BrightRoom is an approx. 20 sqm (215ft²), ...   \n",
       "4  THE APPARTMENT - 4 bedroom (US, Germany: 5 roo...   \n",
       "\n",
       "                                         description experiences_offered  \\\n",
       "0  This beautiful first floor apartment  is situa...                none   \n",
       "1  First of all: I prefer short-notice bookings. ...                none   \n",
       "2  Stay in a stylish loft on the second floor and...                none   \n",
       "3  Cozy and large room in the beautiful district ...                none   \n",
       "4  4 bedroom with very large windows and outstand...                none   \n",
       "\n",
       "                               neighborhood_overview  ... instant_bookable  \\\n",
       "0  The neighbourhood is famous for its variety of...  ...                f   \n",
       "1  My flat is in the middle of West-Berlin, direc...  ...                f   \n",
       "2  The emerging and upcoming East of the new hip ...  ...                f   \n",
       "3  Great neighborhood with plenty of Cafés, Baker...  ...                f   \n",
       "4  Prenzlauer Berg is an amazing neighbourhood wh...  ...                f   \n",
       "\n",
       "  is_business_travel_ready          cancellation_policy  \\\n",
       "0                        f  strict_14_with_grace_period   \n",
       "1                        f  strict_14_with_grace_period   \n",
       "2                        f                     moderate   \n",
       "3                        f                     moderate   \n",
       "4                        f  strict_14_with_grace_period   \n",
       "\n",
       "  require_guest_profile_picture require_guest_phone_verification  \\\n",
       "0                             f                                f   \n",
       "1                             f                                f   \n",
       "2                             f                                t   \n",
       "3                             f                                f   \n",
       "4                             f                                f   \n",
       "\n",
       "   calculated_host_listings_count  \\\n",
       "0                               1   \n",
       "1                               1   \n",
       "2                               1   \n",
       "3                               2   \n",
       "4                               1   \n",
       "\n",
       "   calculated_host_listings_count_entire_homes  \\\n",
       "0                                            1   \n",
       "1                                            0   \n",
       "2                                            1   \n",
       "3                                            0   \n",
       "4                                            1   \n",
       "\n",
       "  calculated_host_listings_count_private_rooms  \\\n",
       "0                                            0   \n",
       "1                                            1   \n",
       "2                                            0   \n",
       "3                                            2   \n",
       "4                                            0   \n",
       "\n",
       "   calculated_host_listings_count_shared_rooms  reviews_per_month  \n",
       "0                                            0               1.11  \n",
       "1                                            0               0.34  \n",
       "2                                            0               1.08  \n",
       "3                                            0               2.27  \n",
       "4                                            0               0.14  \n",
       "\n",
       "[5 rows x 106 columns]"
      ]
     },
     "execution_count": 8,
     "metadata": {},
     "output_type": "execute_result"
    }
   ],
   "source": [
    "# data view\n",
    "\n",
    "listings_df_gz.head(5)"
   ]
  },
  {
   "cell_type": "markdown",
   "metadata": {},
   "source": [
    "##### Data in the <u>listings.csv</u>"
   ]
  },
  {
   "cell_type": "code",
   "execution_count": 9,
   "metadata": {},
   "outputs": [],
   "source": [
    "# read data\n",
    "listings_df_vz = pd.read_csv('data/listings.csv', error_bad_lines=False)"
   ]
  },
  {
   "cell_type": "code",
   "execution_count": 10,
   "metadata": {},
   "outputs": [
    {
     "data": {
      "text/plain": [
       "Index(['id', 'name', 'host_id', 'host_name', 'neighbourhood_group',\n",
       "       'neighbourhood', 'latitude', 'longitude', 'room_type', 'price',\n",
       "       'minimum_nights', 'number_of_reviews', 'last_review',\n",
       "       'reviews_per_month', 'calculated_host_listings_count',\n",
       "       'availability_365'],\n",
       "      dtype='object')"
      ]
     },
     "execution_count": 10,
     "metadata": {},
     "output_type": "execute_result"
    }
   ],
   "source": [
    "listings_df_vz.columns"
   ]
  },
  {
   "cell_type": "code",
   "execution_count": 11,
   "metadata": {},
   "outputs": [
    {
     "data": {
      "text/plain": [
       "(25164, 16)"
      ]
     },
     "execution_count": 11,
     "metadata": {},
     "output_type": "execute_result"
    }
   ],
   "source": [
    "listings_df_vz.shape"
   ]
  },
  {
   "cell_type": "code",
   "execution_count": 12,
   "metadata": {},
   "outputs": [
    {
     "data": {
      "text/html": [
       "<div>\n",
       "<style scoped>\n",
       "    .dataframe tbody tr th:only-of-type {\n",
       "        vertical-align: middle;\n",
       "    }\n",
       "\n",
       "    .dataframe tbody tr th {\n",
       "        vertical-align: top;\n",
       "    }\n",
       "\n",
       "    .dataframe thead th {\n",
       "        text-align: right;\n",
       "    }\n",
       "</style>\n",
       "<table border=\"1\" class=\"dataframe\">\n",
       "  <thead>\n",
       "    <tr style=\"text-align: right;\">\n",
       "      <th></th>\n",
       "      <th>id</th>\n",
       "      <th>name</th>\n",
       "      <th>host_id</th>\n",
       "      <th>host_name</th>\n",
       "      <th>neighbourhood_group</th>\n",
       "      <th>neighbourhood</th>\n",
       "      <th>latitude</th>\n",
       "      <th>longitude</th>\n",
       "      <th>room_type</th>\n",
       "      <th>price</th>\n",
       "      <th>minimum_nights</th>\n",
       "      <th>number_of_reviews</th>\n",
       "      <th>last_review</th>\n",
       "      <th>reviews_per_month</th>\n",
       "      <th>calculated_host_listings_count</th>\n",
       "      <th>availability_365</th>\n",
       "    </tr>\n",
       "  </thead>\n",
       "  <tbody>\n",
       "    <tr>\n",
       "      <th>0</th>\n",
       "      <td>3176</td>\n",
       "      <td>Fabulous Flat in great Location</td>\n",
       "      <td>3718</td>\n",
       "      <td>Britta</td>\n",
       "      <td>Pankow</td>\n",
       "      <td>Prenzlauer Berg Südwest</td>\n",
       "      <td>52.53500</td>\n",
       "      <td>13.41758</td>\n",
       "      <td>Entire home/apt</td>\n",
       "      <td>90</td>\n",
       "      <td>62</td>\n",
       "      <td>145</td>\n",
       "      <td>2019-06-27</td>\n",
       "      <td>1.11</td>\n",
       "      <td>1</td>\n",
       "      <td>140</td>\n",
       "    </tr>\n",
       "    <tr>\n",
       "      <th>1</th>\n",
       "      <td>3309</td>\n",
       "      <td>BerlinSpot Schöneberg near KaDeWe</td>\n",
       "      <td>4108</td>\n",
       "      <td>Jana</td>\n",
       "      <td>Tempelhof - Schöneberg</td>\n",
       "      <td>Schöneberg-Nord</td>\n",
       "      <td>52.49885</td>\n",
       "      <td>13.34906</td>\n",
       "      <td>Private room</td>\n",
       "      <td>28</td>\n",
       "      <td>7</td>\n",
       "      <td>27</td>\n",
       "      <td>2019-05-31</td>\n",
       "      <td>0.34</td>\n",
       "      <td>1</td>\n",
       "      <td>320</td>\n",
       "    </tr>\n",
       "    <tr>\n",
       "      <th>2</th>\n",
       "      <td>6883</td>\n",
       "      <td>Stylish East Side Loft in Center with AC &amp; 2 b...</td>\n",
       "      <td>16149</td>\n",
       "      <td>Steffen</td>\n",
       "      <td>Friedrichshain-Kreuzberg</td>\n",
       "      <td>Frankfurter Allee Süd FK</td>\n",
       "      <td>52.51171</td>\n",
       "      <td>13.45477</td>\n",
       "      <td>Entire home/apt</td>\n",
       "      <td>125</td>\n",
       "      <td>3</td>\n",
       "      <td>133</td>\n",
       "      <td>2020-02-16</td>\n",
       "      <td>1.08</td>\n",
       "      <td>1</td>\n",
       "      <td>0</td>\n",
       "    </tr>\n",
       "    <tr>\n",
       "      <th>3</th>\n",
       "      <td>7071</td>\n",
       "      <td>BrightRoom with sunny greenview!</td>\n",
       "      <td>17391</td>\n",
       "      <td>BrightRoom</td>\n",
       "      <td>Pankow</td>\n",
       "      <td>Helmholtzplatz</td>\n",
       "      <td>52.54316</td>\n",
       "      <td>13.41509</td>\n",
       "      <td>Private room</td>\n",
       "      <td>33</td>\n",
       "      <td>1</td>\n",
       "      <td>292</td>\n",
       "      <td>2020-03-06</td>\n",
       "      <td>2.27</td>\n",
       "      <td>2</td>\n",
       "      <td>45</td>\n",
       "    </tr>\n",
       "    <tr>\n",
       "      <th>4</th>\n",
       "      <td>9991</td>\n",
       "      <td>Geourgeous flat - outstanding views</td>\n",
       "      <td>33852</td>\n",
       "      <td>Philipp</td>\n",
       "      <td>Pankow</td>\n",
       "      <td>Prenzlauer Berg Südwest</td>\n",
       "      <td>52.53303</td>\n",
       "      <td>13.41605</td>\n",
       "      <td>Entire home/apt</td>\n",
       "      <td>180</td>\n",
       "      <td>6</td>\n",
       "      <td>8</td>\n",
       "      <td>2020-01-04</td>\n",
       "      <td>0.14</td>\n",
       "      <td>1</td>\n",
       "      <td>8</td>\n",
       "    </tr>\n",
       "  </tbody>\n",
       "</table>\n",
       "</div>"
      ],
      "text/plain": [
       "     id                                               name  host_id  \\\n",
       "0  3176                    Fabulous Flat in great Location     3718   \n",
       "1  3309                  BerlinSpot Schöneberg near KaDeWe     4108   \n",
       "2  6883  Stylish East Side Loft in Center with AC & 2 b...    16149   \n",
       "3  7071                   BrightRoom with sunny greenview!    17391   \n",
       "4  9991                Geourgeous flat - outstanding views    33852   \n",
       "\n",
       "    host_name       neighbourhood_group             neighbourhood  latitude  \\\n",
       "0      Britta                    Pankow   Prenzlauer Berg Südwest  52.53500   \n",
       "1        Jana    Tempelhof - Schöneberg           Schöneberg-Nord  52.49885   \n",
       "2     Steffen  Friedrichshain-Kreuzberg  Frankfurter Allee Süd FK  52.51171   \n",
       "3  BrightRoom                    Pankow            Helmholtzplatz  52.54316   \n",
       "4     Philipp                    Pankow   Prenzlauer Berg Südwest  52.53303   \n",
       "\n",
       "   longitude        room_type  price  minimum_nights  number_of_reviews  \\\n",
       "0   13.41758  Entire home/apt     90              62                145   \n",
       "1   13.34906     Private room     28               7                 27   \n",
       "2   13.45477  Entire home/apt    125               3                133   \n",
       "3   13.41509     Private room     33               1                292   \n",
       "4   13.41605  Entire home/apt    180               6                  8   \n",
       "\n",
       "  last_review  reviews_per_month  calculated_host_listings_count  \\\n",
       "0  2019-06-27               1.11                               1   \n",
       "1  2019-05-31               0.34                               1   \n",
       "2  2020-02-16               1.08                               1   \n",
       "3  2020-03-06               2.27                               2   \n",
       "4  2020-01-04               0.14                               1   \n",
       "\n",
       "   availability_365  \n",
       "0               140  \n",
       "1               320  \n",
       "2                 0  \n",
       "3                45  \n",
       "4                 8  "
      ]
     },
     "execution_count": 12,
     "metadata": {},
     "output_type": "execute_result"
    }
   ],
   "source": [
    "listings_df_vz.head(5)"
   ]
  },
  {
   "cell_type": "markdown",
   "metadata": {},
   "source": [
    "##### Data in the <u>reviews.csv.gz</u>"
   ]
  },
  {
   "cell_type": "code",
   "execution_count": 13,
   "metadata": {},
   "outputs": [],
   "source": [
    "# read compressed data \n",
    "\n",
    "reviews_df_gz = pd.read_csv('data/reviews.csv.gz', compression='gzip', error_bad_lines=False)"
   ]
  },
  {
   "cell_type": "code",
   "execution_count": 14,
   "metadata": {},
   "outputs": [
    {
     "data": {
      "text/plain": [
       "Index(['listing_id', 'id', 'date', 'reviewer_id', 'reviewer_name', 'comments'], dtype='object')"
      ]
     },
     "execution_count": 14,
     "metadata": {},
     "output_type": "execute_result"
    }
   ],
   "source": [
    "reviews_df_gz.columns"
   ]
  },
  {
   "cell_type": "code",
   "execution_count": 15,
   "metadata": {},
   "outputs": [
    {
     "data": {
      "text/plain": [
       "(545703, 6)"
      ]
     },
     "execution_count": 15,
     "metadata": {},
     "output_type": "execute_result"
    }
   ],
   "source": [
    "reviews_df_gz.shape"
   ]
  },
  {
   "cell_type": "code",
   "execution_count": 16,
   "metadata": {},
   "outputs": [
    {
     "data": {
      "text/html": [
       "<div>\n",
       "<style scoped>\n",
       "    .dataframe tbody tr th:only-of-type {\n",
       "        vertical-align: middle;\n",
       "    }\n",
       "\n",
       "    .dataframe tbody tr th {\n",
       "        vertical-align: top;\n",
       "    }\n",
       "\n",
       "    .dataframe thead th {\n",
       "        text-align: right;\n",
       "    }\n",
       "</style>\n",
       "<table border=\"1\" class=\"dataframe\">\n",
       "  <thead>\n",
       "    <tr style=\"text-align: right;\">\n",
       "      <th></th>\n",
       "      <th>listing_id</th>\n",
       "      <th>id</th>\n",
       "      <th>date</th>\n",
       "      <th>reviewer_id</th>\n",
       "      <th>reviewer_name</th>\n",
       "      <th>comments</th>\n",
       "    </tr>\n",
       "  </thead>\n",
       "  <tbody>\n",
       "    <tr>\n",
       "      <th>0</th>\n",
       "      <td>3176</td>\n",
       "      <td>4283</td>\n",
       "      <td>2009-06-20</td>\n",
       "      <td>21475</td>\n",
       "      <td>Milan</td>\n",
       "      <td>excellent stay, i would highly recommend it. a...</td>\n",
       "    </tr>\n",
       "    <tr>\n",
       "      <th>1</th>\n",
       "      <td>3176</td>\n",
       "      <td>134722</td>\n",
       "      <td>2010-11-07</td>\n",
       "      <td>263467</td>\n",
       "      <td>George</td>\n",
       "      <td>Britta's apartment in Berlin is in a great are...</td>\n",
       "    </tr>\n",
       "    <tr>\n",
       "      <th>2</th>\n",
       "      <td>3176</td>\n",
       "      <td>144064</td>\n",
       "      <td>2010-11-24</td>\n",
       "      <td>76726</td>\n",
       "      <td>Patricia</td>\n",
       "      <td>Fantastic, large place in good location. Only ...</td>\n",
       "    </tr>\n",
       "    <tr>\n",
       "      <th>3</th>\n",
       "      <td>3176</td>\n",
       "      <td>156702</td>\n",
       "      <td>2010-12-21</td>\n",
       "      <td>291657</td>\n",
       "      <td>Benedetta</td>\n",
       "      <td>L'appartamento di Britta è molto largo carino ...</td>\n",
       "    </tr>\n",
       "    <tr>\n",
       "      <th>4</th>\n",
       "      <td>3176</td>\n",
       "      <td>165048</td>\n",
       "      <td>2011-01-04</td>\n",
       "      <td>279789</td>\n",
       "      <td>Aude</td>\n",
       "      <td>We went in Berlin for the new year eve. The ap...</td>\n",
       "    </tr>\n",
       "  </tbody>\n",
       "</table>\n",
       "</div>"
      ],
      "text/plain": [
       "   listing_id      id        date  reviewer_id reviewer_name  \\\n",
       "0        3176    4283  2009-06-20        21475         Milan   \n",
       "1        3176  134722  2010-11-07       263467        George   \n",
       "2        3176  144064  2010-11-24        76726      Patricia   \n",
       "3        3176  156702  2010-12-21       291657     Benedetta   \n",
       "4        3176  165048  2011-01-04       279789          Aude   \n",
       "\n",
       "                                            comments  \n",
       "0  excellent stay, i would highly recommend it. a...  \n",
       "1  Britta's apartment in Berlin is in a great are...  \n",
       "2  Fantastic, large place in good location. Only ...  \n",
       "3  L'appartamento di Britta è molto largo carino ...  \n",
       "4  We went in Berlin for the new year eve. The ap...  "
      ]
     },
     "execution_count": 16,
     "metadata": {},
     "output_type": "execute_result"
    }
   ],
   "source": [
    "reviews_df_gz.head(5)"
   ]
  },
  {
   "cell_type": "markdown",
   "metadata": {},
   "source": [
    "##### Data in the <u>reviews.csv</u>"
   ]
  },
  {
   "cell_type": "code",
   "execution_count": 17,
   "metadata": {},
   "outputs": [],
   "source": [
    "# read data\n",
    "reviews_df_link = pd.read_csv('data/reviews.csv', error_bad_lines=False)"
   ]
  },
  {
   "cell_type": "code",
   "execution_count": 18,
   "metadata": {},
   "outputs": [
    {
     "data": {
      "text/plain": [
       "Index(['listing_id', 'date'], dtype='object')"
      ]
     },
     "execution_count": 18,
     "metadata": {},
     "output_type": "execute_result"
    }
   ],
   "source": [
    "reviews_df_link.columns"
   ]
  },
  {
   "cell_type": "code",
   "execution_count": 19,
   "metadata": {},
   "outputs": [
    {
     "data": {
      "text/plain": [
       "(545703, 2)"
      ]
     },
     "execution_count": 19,
     "metadata": {},
     "output_type": "execute_result"
    }
   ],
   "source": [
    "reviews_df_link.shape"
   ]
  },
  {
   "cell_type": "code",
   "execution_count": 20,
   "metadata": {},
   "outputs": [
    {
     "data": {
      "text/html": [
       "<div>\n",
       "<style scoped>\n",
       "    .dataframe tbody tr th:only-of-type {\n",
       "        vertical-align: middle;\n",
       "    }\n",
       "\n",
       "    .dataframe tbody tr th {\n",
       "        vertical-align: top;\n",
       "    }\n",
       "\n",
       "    .dataframe thead th {\n",
       "        text-align: right;\n",
       "    }\n",
       "</style>\n",
       "<table border=\"1\" class=\"dataframe\">\n",
       "  <thead>\n",
       "    <tr style=\"text-align: right;\">\n",
       "      <th></th>\n",
       "      <th>listing_id</th>\n",
       "      <th>date</th>\n",
       "    </tr>\n",
       "  </thead>\n",
       "  <tbody>\n",
       "    <tr>\n",
       "      <th>0</th>\n",
       "      <td>3176</td>\n",
       "      <td>2009-06-20</td>\n",
       "    </tr>\n",
       "    <tr>\n",
       "      <th>1</th>\n",
       "      <td>3176</td>\n",
       "      <td>2010-11-07</td>\n",
       "    </tr>\n",
       "    <tr>\n",
       "      <th>2</th>\n",
       "      <td>3176</td>\n",
       "      <td>2010-11-24</td>\n",
       "    </tr>\n",
       "    <tr>\n",
       "      <th>3</th>\n",
       "      <td>3176</td>\n",
       "      <td>2010-12-21</td>\n",
       "    </tr>\n",
       "    <tr>\n",
       "      <th>4</th>\n",
       "      <td>3176</td>\n",
       "      <td>2011-01-04</td>\n",
       "    </tr>\n",
       "  </tbody>\n",
       "</table>\n",
       "</div>"
      ],
      "text/plain": [
       "   listing_id        date\n",
       "0        3176  2009-06-20\n",
       "1        3176  2010-11-07\n",
       "2        3176  2010-11-24\n",
       "3        3176  2010-12-21\n",
       "4        3176  2011-01-04"
      ]
     },
     "execution_count": 20,
     "metadata": {},
     "output_type": "execute_result"
    }
   ],
   "source": [
    "reviews_df_link.head(5)"
   ]
  },
  {
   "cell_type": "markdown",
   "metadata": {},
   "source": [
    "##### Data in the <u>neighbourhoods.csv</u>"
   ]
  },
  {
   "cell_type": "code",
   "execution_count": 21,
   "metadata": {},
   "outputs": [],
   "source": [
    "# read data\n",
    "nbs_df = pd.read_csv('data/neighbourhoods.csv', error_bad_lines=False)"
   ]
  },
  {
   "cell_type": "code",
   "execution_count": 22,
   "metadata": {},
   "outputs": [
    {
     "data": {
      "text/plain": [
       "Index(['neighbourhood_group', 'neighbourhood'], dtype='object')"
      ]
     },
     "execution_count": 22,
     "metadata": {},
     "output_type": "execute_result"
    }
   ],
   "source": [
    "nbs_df.columns"
   ]
  },
  {
   "cell_type": "code",
   "execution_count": 23,
   "metadata": {},
   "outputs": [
    {
     "data": {
      "text/plain": [
       "(139, 2)"
      ]
     },
     "execution_count": 23,
     "metadata": {},
     "output_type": "execute_result"
    }
   ],
   "source": [
    "nbs_df.shape"
   ]
  },
  {
   "cell_type": "code",
   "execution_count": 24,
   "metadata": {},
   "outputs": [
    {
     "data": {
      "text/html": [
       "<div>\n",
       "<style scoped>\n",
       "    .dataframe tbody tr th:only-of-type {\n",
       "        vertical-align: middle;\n",
       "    }\n",
       "\n",
       "    .dataframe tbody tr th {\n",
       "        vertical-align: top;\n",
       "    }\n",
       "\n",
       "    .dataframe thead th {\n",
       "        text-align: right;\n",
       "    }\n",
       "</style>\n",
       "<table border=\"1\" class=\"dataframe\">\n",
       "  <thead>\n",
       "    <tr style=\"text-align: right;\">\n",
       "      <th></th>\n",
       "      <th>neighbourhood_group</th>\n",
       "      <th>neighbourhood</th>\n",
       "    </tr>\n",
       "  </thead>\n",
       "  <tbody>\n",
       "    <tr>\n",
       "      <th>0</th>\n",
       "      <td>Charlottenburg-Wilm.</td>\n",
       "      <td>Barstraße</td>\n",
       "    </tr>\n",
       "    <tr>\n",
       "      <th>1</th>\n",
       "      <td>Charlottenburg-Wilm.</td>\n",
       "      <td>Charlottenburg Nord</td>\n",
       "    </tr>\n",
       "    <tr>\n",
       "      <th>2</th>\n",
       "      <td>Charlottenburg-Wilm.</td>\n",
       "      <td>Düsseldorfer Straße</td>\n",
       "    </tr>\n",
       "    <tr>\n",
       "      <th>3</th>\n",
       "      <td>Charlottenburg-Wilm.</td>\n",
       "      <td>Forst Grunewald</td>\n",
       "    </tr>\n",
       "    <tr>\n",
       "      <th>4</th>\n",
       "      <td>Charlottenburg-Wilm.</td>\n",
       "      <td>Grunewald</td>\n",
       "    </tr>\n",
       "  </tbody>\n",
       "</table>\n",
       "</div>"
      ],
      "text/plain": [
       "    neighbourhood_group        neighbourhood\n",
       "0  Charlottenburg-Wilm.            Barstraße\n",
       "1  Charlottenburg-Wilm.  Charlottenburg Nord\n",
       "2  Charlottenburg-Wilm.  Düsseldorfer Straße\n",
       "3  Charlottenburg-Wilm.      Forst Grunewald\n",
       "4  Charlottenburg-Wilm.            Grunewald"
      ]
     },
     "execution_count": 24,
     "metadata": {},
     "output_type": "execute_result"
    }
   ],
   "source": [
    "nbs_df.head(5)"
   ]
  },
  {
   "cell_type": "markdown",
   "metadata": {},
   "source": [
    "##### Data in the <u>calendar.csv.gz</u>"
   ]
  },
  {
   "cell_type": "code",
   "execution_count": 25,
   "metadata": {},
   "outputs": [],
   "source": [
    "# read compressed data \n",
    "\n",
    "calendar_df_gz = pd.read_csv('data/calendar.csv.gz', compression='gzip', error_bad_lines=False)"
   ]
  },
  {
   "cell_type": "code",
   "execution_count": 26,
   "metadata": {},
   "outputs": [
    {
     "data": {
      "text/plain": [
       "Index(['listing_id', 'date', 'available', 'price', 'adjusted_price',\n",
       "       'minimum_nights', 'maximum_nights'],\n",
       "      dtype='object')"
      ]
     },
     "execution_count": 26,
     "metadata": {},
     "output_type": "execute_result"
    }
   ],
   "source": [
    "calendar_df_gz.columns"
   ]
  },
  {
   "cell_type": "code",
   "execution_count": 27,
   "metadata": {},
   "outputs": [
    {
     "data": {
      "text/plain": [
       "(9184860, 7)"
      ]
     },
     "execution_count": 27,
     "metadata": {},
     "output_type": "execute_result"
    }
   ],
   "source": [
    "calendar_df_gz.shape"
   ]
  },
  {
   "cell_type": "code",
   "execution_count": 28,
   "metadata": {},
   "outputs": [
    {
     "data": {
      "text/html": [
       "<div>\n",
       "<style scoped>\n",
       "    .dataframe tbody tr th:only-of-type {\n",
       "        vertical-align: middle;\n",
       "    }\n",
       "\n",
       "    .dataframe tbody tr th {\n",
       "        vertical-align: top;\n",
       "    }\n",
       "\n",
       "    .dataframe thead th {\n",
       "        text-align: right;\n",
       "    }\n",
       "</style>\n",
       "<table border=\"1\" class=\"dataframe\">\n",
       "  <thead>\n",
       "    <tr style=\"text-align: right;\">\n",
       "      <th></th>\n",
       "      <th>listing_id</th>\n",
       "      <th>date</th>\n",
       "      <th>available</th>\n",
       "      <th>price</th>\n",
       "      <th>adjusted_price</th>\n",
       "      <th>minimum_nights</th>\n",
       "      <th>maximum_nights</th>\n",
       "    </tr>\n",
       "  </thead>\n",
       "  <tbody>\n",
       "    <tr>\n",
       "      <th>9184855</th>\n",
       "      <td>42919150</td>\n",
       "      <td>2021-03-12</td>\n",
       "      <td>f</td>\n",
       "      <td>$31.00</td>\n",
       "      <td>$31.00</td>\n",
       "      <td>1</td>\n",
       "      <td>1125</td>\n",
       "    </tr>\n",
       "    <tr>\n",
       "      <th>9184856</th>\n",
       "      <td>42919150</td>\n",
       "      <td>2021-03-13</td>\n",
       "      <td>f</td>\n",
       "      <td>$31.00</td>\n",
       "      <td>$31.00</td>\n",
       "      <td>1</td>\n",
       "      <td>1125</td>\n",
       "    </tr>\n",
       "    <tr>\n",
       "      <th>9184857</th>\n",
       "      <td>42919150</td>\n",
       "      <td>2021-03-14</td>\n",
       "      <td>f</td>\n",
       "      <td>$30.00</td>\n",
       "      <td>$30.00</td>\n",
       "      <td>1</td>\n",
       "      <td>1125</td>\n",
       "    </tr>\n",
       "    <tr>\n",
       "      <th>9184858</th>\n",
       "      <td>42919150</td>\n",
       "      <td>2021-03-15</td>\n",
       "      <td>f</td>\n",
       "      <td>$30.00</td>\n",
       "      <td>$30.00</td>\n",
       "      <td>1</td>\n",
       "      <td>1125</td>\n",
       "    </tr>\n",
       "    <tr>\n",
       "      <th>9184859</th>\n",
       "      <td>42919150</td>\n",
       "      <td>2021-03-16</td>\n",
       "      <td>f</td>\n",
       "      <td>$30.00</td>\n",
       "      <td>$30.00</td>\n",
       "      <td>1</td>\n",
       "      <td>1125</td>\n",
       "    </tr>\n",
       "  </tbody>\n",
       "</table>\n",
       "</div>"
      ],
      "text/plain": [
       "         listing_id        date available   price adjusted_price  \\\n",
       "9184855    42919150  2021-03-12         f  $31.00         $31.00   \n",
       "9184856    42919150  2021-03-13         f  $31.00         $31.00   \n",
       "9184857    42919150  2021-03-14         f  $30.00         $30.00   \n",
       "9184858    42919150  2021-03-15         f  $30.00         $30.00   \n",
       "9184859    42919150  2021-03-16         f  $30.00         $30.00   \n",
       "\n",
       "         minimum_nights  maximum_nights  \n",
       "9184855               1            1125  \n",
       "9184856               1            1125  \n",
       "9184857               1            1125  \n",
       "9184858               1            1125  \n",
       "9184859               1            1125  "
      ]
     },
     "execution_count": 28,
     "metadata": {},
     "output_type": "execute_result"
    }
   ],
   "source": [
    "calendar_df_gz.tail(5)"
   ]
  },
  {
   "cell_type": "markdown",
   "metadata": {},
   "source": [
    "### Load data into database (<u>optional</u>)\n",
    "\n",
    "\n",
    "Following approach only tested with PostgreSQL as target database, but with small modifications also have to work with other DBMS-es as well."
   ]
  },
  {
   "cell_type": "markdown",
   "metadata": {},
   "source": [
    "#### Settings for DB connection \n",
    "\n",
    "Create ```settings.py``` file with following parameters, here you need to use your own onces:\n",
    "\n",
    "```python\n",
    "DB_SERVER = '<>'\n",
    "DB_NAME = '<>'\n",
    "DB_USER_NAME = '<>'\n",
    "DB_USER_PASSWORD = '<>'\n",
    "```"
   ]
  },
  {
   "cell_type": "markdown",
   "metadata": {},
   "source": [
    "#### Dependencies\n",
    "* pandas\n",
    "* psycopg2"
   ]
  },
  {
   "cell_type": "markdown",
   "metadata": {},
   "source": [
    "**<u>NOTE</u>**: You will need to organize data in a proper folder structure, or change *'CSV paths'*."
   ]
  },
  {
   "cell_type": "code",
   "execution_count": 29,
   "metadata": {},
   "outputs": [],
   "source": [
    "import pandas as pd\n",
    "import settings as settings\n",
    "\n",
    "DB_CONNECT_URI_TEMPLATE = 'postgresql://{user}:{password}@{server}/{database}'\n",
    "db_connect_uri = DB_CONNECT_URI_TEMPLATE.format(user=settings.DB_USER_NAME,\n",
    "                                                password=settings.DB_USER_PASSWORD,\n",
    "                                                server=settings.DB_SERVER, \n",
    "                                                database=settings.DB_NAME)\n",
    "\n",
    "def import_into_table(csv_fname, table_name):\n",
    "\n",
    "    print ('[i] Importing following file into database: {0}'.format(csv_fname))\n",
    "    df = pd.read_csv(csv_fname)\n",
    "    df.columns = [c.lower() for c in df.columns] #postgres doesn't like capitals or spaces\n",
    "    print (df.columns)\n",
    "\n",
    "    from sqlalchemy import create_engine    \n",
    "    engine = create_engine(db_connect_uri)\n",
    "\n",
    "    df.to_sql(table_name, engine)"
   ]
  },
  {
   "cell_type": "code",
   "execution_count": 31,
   "metadata": {},
   "outputs": [],
   "source": [
    "# uncomment if needed\n",
    "# import_into_table(csv_fname='data/listings.csv', table_name='airbnb_listings_berlin_summary_01')\n",
    "\n",
    "# you will ned to unzip following archive\n",
    "#import_into_table(csv_fname='data/zips/listings.csv/listings.csv', table_name='airbnb_listings_full_01')\n",
    "\n",
    "# uncomment if needed\n",
    "#import_into_table(csv_fname='data/reviews.csv', table_name='airbnb_reviews_berlin_summary_01')\n",
    "\n",
    "# you will ned to unzip following archive\n",
    "#import_into_table(csv_fname='data/zips/reviews.csv/reviews.csv', table_name='airbnb_reviews_full_01')\n",
    "\n",
    "# uncomment if needed\n",
    "# import_into_table(csv_fname='data/neighbourhoods.csv', table_name='airbnb_neighbourhoods_berlin_01')\n",
    "\n",
    "#\n",
    "# this job could last very long, never succeed until now\n",
    "#\n",
    "# import_into_table(csv_fname='data/zips/calendar.csv/calendar.csv', table_name='airbnb_calendar_01')"
   ]
  },
  {
   "cell_type": "markdown",
   "metadata": {},
   "source": [
    "#### Example - use SQL query "
   ]
  },
  {
   "cell_type": "code",
   "execution_count": 32,
   "metadata": {},
   "outputs": [],
   "source": [
    "from sqlalchemy import create_engine\n",
    "\n",
    "db_engine = create_engine(db_connect_uri)\n",
    "sql_query = '''\n",
    "    SELECT \n",
    "        *\n",
    "    FROM \n",
    "        airbnb_listings_berlin_summary_01 a_ber\n",
    "    --LIMIT 10;\n",
    "'''\n",
    "\n",
    "df_db = pd.read_sql_query(sql_query, db_engine)"
   ]
  },
  {
   "cell_type": "code",
   "execution_count": 33,
   "metadata": {},
   "outputs": [
    {
     "data": {
      "text/plain": [
       "Index(['index', 'id', 'name', 'host_id', 'host_name', 'neighbourhood_group',\n",
       "       'neighbourhood', 'latitude', 'longitude', 'room_type', 'price',\n",
       "       'minimum_nights', 'number_of_reviews', 'last_review',\n",
       "       'reviews_per_month', 'calculated_host_listings_count',\n",
       "       'availability_365'],\n",
       "      dtype='object')"
      ]
     },
     "execution_count": 33,
     "metadata": {},
     "output_type": "execute_result"
    }
   ],
   "source": [
    "df_db.columns"
   ]
  },
  {
   "cell_type": "code",
   "execution_count": 34,
   "metadata": {},
   "outputs": [
    {
     "data": {
      "text/plain": [
       "(25164, 17)"
      ]
     },
     "execution_count": 34,
     "metadata": {},
     "output_type": "execute_result"
    }
   ],
   "source": [
    "df_db.shape"
   ]
  },
  {
   "cell_type": "code",
   "execution_count": 35,
   "metadata": {},
   "outputs": [
    {
     "data": {
      "text/html": [
       "<div>\n",
       "<style scoped>\n",
       "    .dataframe tbody tr th:only-of-type {\n",
       "        vertical-align: middle;\n",
       "    }\n",
       "\n",
       "    .dataframe tbody tr th {\n",
       "        vertical-align: top;\n",
       "    }\n",
       "\n",
       "    .dataframe thead th {\n",
       "        text-align: right;\n",
       "    }\n",
       "</style>\n",
       "<table border=\"1\" class=\"dataframe\">\n",
       "  <thead>\n",
       "    <tr style=\"text-align: right;\">\n",
       "      <th></th>\n",
       "      <th>index</th>\n",
       "      <th>id</th>\n",
       "      <th>name</th>\n",
       "      <th>host_id</th>\n",
       "      <th>host_name</th>\n",
       "      <th>neighbourhood_group</th>\n",
       "      <th>neighbourhood</th>\n",
       "      <th>latitude</th>\n",
       "      <th>longitude</th>\n",
       "      <th>room_type</th>\n",
       "      <th>price</th>\n",
       "      <th>minimum_nights</th>\n",
       "      <th>number_of_reviews</th>\n",
       "      <th>last_review</th>\n",
       "      <th>reviews_per_month</th>\n",
       "      <th>calculated_host_listings_count</th>\n",
       "      <th>availability_365</th>\n",
       "    </tr>\n",
       "  </thead>\n",
       "  <tbody>\n",
       "    <tr>\n",
       "      <th>0</th>\n",
       "      <td>0</td>\n",
       "      <td>3176</td>\n",
       "      <td>Fabulous Flat in great Location</td>\n",
       "      <td>3718</td>\n",
       "      <td>Britta</td>\n",
       "      <td>Pankow</td>\n",
       "      <td>Prenzlauer Berg Südwest</td>\n",
       "      <td>52.53500</td>\n",
       "      <td>13.41758</td>\n",
       "      <td>Entire home/apt</td>\n",
       "      <td>90</td>\n",
       "      <td>62</td>\n",
       "      <td>145</td>\n",
       "      <td>2019-06-27</td>\n",
       "      <td>1.11</td>\n",
       "      <td>1</td>\n",
       "      <td>140</td>\n",
       "    </tr>\n",
       "    <tr>\n",
       "      <th>1</th>\n",
       "      <td>1</td>\n",
       "      <td>3309</td>\n",
       "      <td>BerlinSpot Schöneberg near KaDeWe</td>\n",
       "      <td>4108</td>\n",
       "      <td>Jana</td>\n",
       "      <td>Tempelhof - Schöneberg</td>\n",
       "      <td>Schöneberg-Nord</td>\n",
       "      <td>52.49885</td>\n",
       "      <td>13.34906</td>\n",
       "      <td>Private room</td>\n",
       "      <td>28</td>\n",
       "      <td>7</td>\n",
       "      <td>27</td>\n",
       "      <td>2019-05-31</td>\n",
       "      <td>0.34</td>\n",
       "      <td>1</td>\n",
       "      <td>320</td>\n",
       "    </tr>\n",
       "    <tr>\n",
       "      <th>2</th>\n",
       "      <td>2</td>\n",
       "      <td>6883</td>\n",
       "      <td>Stylish East Side Loft in Center with AC &amp; 2 b...</td>\n",
       "      <td>16149</td>\n",
       "      <td>Steffen</td>\n",
       "      <td>Friedrichshain-Kreuzberg</td>\n",
       "      <td>Frankfurter Allee Süd FK</td>\n",
       "      <td>52.51171</td>\n",
       "      <td>13.45477</td>\n",
       "      <td>Entire home/apt</td>\n",
       "      <td>125</td>\n",
       "      <td>3</td>\n",
       "      <td>133</td>\n",
       "      <td>2020-02-16</td>\n",
       "      <td>1.08</td>\n",
       "      <td>1</td>\n",
       "      <td>0</td>\n",
       "    </tr>\n",
       "    <tr>\n",
       "      <th>3</th>\n",
       "      <td>3</td>\n",
       "      <td>7071</td>\n",
       "      <td>BrightRoom with sunny greenview!</td>\n",
       "      <td>17391</td>\n",
       "      <td>BrightRoom</td>\n",
       "      <td>Pankow</td>\n",
       "      <td>Helmholtzplatz</td>\n",
       "      <td>52.54316</td>\n",
       "      <td>13.41509</td>\n",
       "      <td>Private room</td>\n",
       "      <td>33</td>\n",
       "      <td>1</td>\n",
       "      <td>292</td>\n",
       "      <td>2020-03-06</td>\n",
       "      <td>2.27</td>\n",
       "      <td>2</td>\n",
       "      <td>45</td>\n",
       "    </tr>\n",
       "    <tr>\n",
       "      <th>4</th>\n",
       "      <td>4</td>\n",
       "      <td>9991</td>\n",
       "      <td>Geourgeous flat - outstanding views</td>\n",
       "      <td>33852</td>\n",
       "      <td>Philipp</td>\n",
       "      <td>Pankow</td>\n",
       "      <td>Prenzlauer Berg Südwest</td>\n",
       "      <td>52.53303</td>\n",
       "      <td>13.41605</td>\n",
       "      <td>Entire home/apt</td>\n",
       "      <td>180</td>\n",
       "      <td>6</td>\n",
       "      <td>8</td>\n",
       "      <td>2020-01-04</td>\n",
       "      <td>0.14</td>\n",
       "      <td>1</td>\n",
       "      <td>8</td>\n",
       "    </tr>\n",
       "  </tbody>\n",
       "</table>\n",
       "</div>"
      ],
      "text/plain": [
       "   index    id                                               name  host_id  \\\n",
       "0      0  3176                    Fabulous Flat in great Location     3718   \n",
       "1      1  3309                  BerlinSpot Schöneberg near KaDeWe     4108   \n",
       "2      2  6883  Stylish East Side Loft in Center with AC & 2 b...    16149   \n",
       "3      3  7071                   BrightRoom with sunny greenview!    17391   \n",
       "4      4  9991                Geourgeous flat - outstanding views    33852   \n",
       "\n",
       "    host_name       neighbourhood_group             neighbourhood  latitude  \\\n",
       "0      Britta                    Pankow   Prenzlauer Berg Südwest  52.53500   \n",
       "1        Jana    Tempelhof - Schöneberg           Schöneberg-Nord  52.49885   \n",
       "2     Steffen  Friedrichshain-Kreuzberg  Frankfurter Allee Süd FK  52.51171   \n",
       "3  BrightRoom                    Pankow            Helmholtzplatz  52.54316   \n",
       "4     Philipp                    Pankow   Prenzlauer Berg Südwest  52.53303   \n",
       "\n",
       "   longitude        room_type  price  minimum_nights  number_of_reviews  \\\n",
       "0   13.41758  Entire home/apt     90              62                145   \n",
       "1   13.34906     Private room     28               7                 27   \n",
       "2   13.45477  Entire home/apt    125               3                133   \n",
       "3   13.41509     Private room     33               1                292   \n",
       "4   13.41605  Entire home/apt    180               6                  8   \n",
       "\n",
       "  last_review  reviews_per_month  calculated_host_listings_count  \\\n",
       "0  2019-06-27               1.11                               1   \n",
       "1  2019-05-31               0.34                               1   \n",
       "2  2020-02-16               1.08                               1   \n",
       "3  2020-03-06               2.27                               2   \n",
       "4  2020-01-04               0.14                               1   \n",
       "\n",
       "   availability_365  \n",
       "0               140  \n",
       "1               320  \n",
       "2                 0  \n",
       "3                45  \n",
       "4                 8  "
      ]
     },
     "execution_count": 35,
     "metadata": {},
     "output_type": "execute_result"
    }
   ],
   "source": [
    "df_db.head(5)"
   ]
  },
  {
   "cell_type": "markdown",
   "metadata": {},
   "source": [
    "## Analysis: dataset with <u>reviews</u>\n",
    "\n",
    "In this case we are using simple the data directly from CSV file."
   ]
  },
  {
   "cell_type": "code",
   "execution_count": 36,
   "metadata": {},
   "outputs": [],
   "source": [
    "# read compressed data \n",
    "\n",
    "reviews_df_gz = pd.read_csv('data/reviews.csv.gz', compression='gzip', error_bad_lines=False)"
   ]
  },
  {
   "cell_type": "code",
   "execution_count": 37,
   "metadata": {},
   "outputs": [],
   "source": [
    "reviews_df_gz['date_new'] = pd.to_datetime(reviews_df_gz['date'], format=\"%Y-%m-%d\")"
   ]
  },
  {
   "cell_type": "markdown",
   "metadata": {},
   "source": [
    "#### Question: How the data looks like and how it is organized / structured?"
   ]
  },
  {
   "cell_type": "code",
   "execution_count": 38,
   "metadata": {},
   "outputs": [
    {
     "data": {
      "text/html": [
       "<div>\n",
       "<style scoped>\n",
       "    .dataframe tbody tr th:only-of-type {\n",
       "        vertical-align: middle;\n",
       "    }\n",
       "\n",
       "    .dataframe tbody tr th {\n",
       "        vertical-align: top;\n",
       "    }\n",
       "\n",
       "    .dataframe thead th {\n",
       "        text-align: right;\n",
       "    }\n",
       "</style>\n",
       "<table border=\"1\" class=\"dataframe\">\n",
       "  <thead>\n",
       "    <tr style=\"text-align: right;\">\n",
       "      <th></th>\n",
       "      <th>listing_id</th>\n",
       "      <th>id</th>\n",
       "      <th>date</th>\n",
       "      <th>reviewer_id</th>\n",
       "      <th>reviewer_name</th>\n",
       "      <th>comments</th>\n",
       "      <th>date_new</th>\n",
       "    </tr>\n",
       "  </thead>\n",
       "  <tbody>\n",
       "    <tr>\n",
       "      <th>516687</th>\n",
       "      <td>34249405</td>\n",
       "      <td>619342830</td>\n",
       "      <td>2020-03-17</td>\n",
       "      <td>224821660</td>\n",
       "      <td>Omar</td>\n",
       "      <td>The host canceled this reservation 3 days befo...</td>\n",
       "      <td>2020-03-17</td>\n",
       "    </tr>\n",
       "    <tr>\n",
       "      <th>292391</th>\n",
       "      <td>14682568</td>\n",
       "      <td>619332920</td>\n",
       "      <td>2020-03-17</td>\n",
       "      <td>269450592</td>\n",
       "      <td>Benjamin</td>\n",
       "      <td>The host canceled this reservation 45 days bef...</td>\n",
       "      <td>2020-03-17</td>\n",
       "    </tr>\n",
       "    <tr>\n",
       "      <th>545018</th>\n",
       "      <td>41785567</td>\n",
       "      <td>619364501</td>\n",
       "      <td>2020-03-17</td>\n",
       "      <td>38432119</td>\n",
       "      <td>Ruben</td>\n",
       "      <td>Again, it was all wonderful</td>\n",
       "      <td>2020-03-17</td>\n",
       "    </tr>\n",
       "    <tr>\n",
       "      <th>385463</th>\n",
       "      <td>20568733</td>\n",
       "      <td>619394937</td>\n",
       "      <td>2020-03-17</td>\n",
       "      <td>261220808</td>\n",
       "      <td>Erbil</td>\n",
       "      <td>Everything was great. Thank you.</td>\n",
       "      <td>2020-03-17</td>\n",
       "    </tr>\n",
       "    <tr>\n",
       "      <th>457530</th>\n",
       "      <td>26941680</td>\n",
       "      <td>619384646</td>\n",
       "      <td>2020-03-17</td>\n",
       "      <td>251711410</td>\n",
       "      <td>Ilia</td>\n",
       "      <td>The flat has everything needed, but the condit...</td>\n",
       "      <td>2020-03-17</td>\n",
       "    </tr>\n",
       "  </tbody>\n",
       "</table>\n",
       "</div>"
      ],
      "text/plain": [
       "        listing_id         id        date  reviewer_id reviewer_name  \\\n",
       "516687    34249405  619342830  2020-03-17    224821660          Omar   \n",
       "292391    14682568  619332920  2020-03-17    269450592      Benjamin   \n",
       "545018    41785567  619364501  2020-03-17     38432119         Ruben   \n",
       "385463    20568733  619394937  2020-03-17    261220808         Erbil   \n",
       "457530    26941680  619384646  2020-03-17    251711410          Ilia   \n",
       "\n",
       "                                                 comments   date_new  \n",
       "516687  The host canceled this reservation 3 days befo... 2020-03-17  \n",
       "292391  The host canceled this reservation 45 days bef... 2020-03-17  \n",
       "545018                        Again, it was all wonderful 2020-03-17  \n",
       "385463                   Everything was great. Thank you. 2020-03-17  \n",
       "457530  The flat has everything needed, but the condit... 2020-03-17  "
      ]
     },
     "execution_count": 38,
     "metadata": {},
     "output_type": "execute_result"
    }
   ],
   "source": [
    "# this sorts in date order\n",
    "reviews_df_gz.sort_values(by='date_new', ascending=False).head(5)"
   ]
  },
  {
   "cell_type": "code",
   "execution_count": 39,
   "metadata": {},
   "outputs": [
    {
     "data": {
      "text/plain": [
       "<matplotlib.axes._subplots.AxesSubplot at 0x1ad94fe7780>"
      ]
     },
     "execution_count": 39,
     "metadata": {},
     "output_type": "execute_result"
    },
    {
     "data": {
      "image/png": "[encoded data removed]",
      "text/plain": [
       "<Figure size 1800x864 with 1 Axes>"
      ]
     },
     "metadata": {},
     "output_type": "display_data"
    }
   ],
   "source": [
    "reviews_df_gz_new = reviews_df_gz.set_index('date_new')\n",
    "\n",
    "g_reviews_df_gz_new = reviews_df_gz_new.groupby(pd.Grouper(freq='Y'))  # DataFrameGroupBy (grouped by Month)\n",
    "g_reviews_df_gz_new.count()['id'].plot(kind='bar')"
   ]
  },
  {
   "cell_type": "code",
   "execution_count": 40,
   "metadata": {},
   "outputs": [
    {
     "data": {
      "image/png": "[encoded data removed]",
      "text/plain": [
       "<Figure size 1800x864 with 1 Axes>"
      ]
     },
     "metadata": {},
     "output_type": "display_data"
    }
   ],
   "source": [
    "gr_reviews_df_gz_new = reviews_df_gz_new.groupby(pd.Grouper(freq='M'))  # DataFrameGroupBy (grouped by Month)\n",
    "cnt_reviews_df_gz_new = g_reviews_df_gz_new.count()['id'].plot(kind='bar')"
   ]
  },
  {
   "cell_type": "code",
   "execution_count": 41,
   "metadata": {},
   "outputs": [
    {
     "data": {
      "text/plain": [
       "[Text(0, 0, 'Jun'),\n",
       " Text(0, 0, 'Jul'),\n",
       " Text(0, 0, 'Aug'),\n",
       " Text(0, 0, 'Sep'),\n",
       " Text(0, 0, 'Oct'),\n",
       " Text(0, 0, 'Nov'),\n",
       " Text(0, 0, 'Dec'),\n",
       " Text(0, 0, 'Jan\\n2010'),\n",
       " Text(0, 0, 'Feb'),\n",
       " Text(0, 0, 'Mar'),\n",
       " Text(0, 0, 'Apr'),\n",
       " Text(0, 0, 'May'),\n",
       " Text(0, 0, 'Jun'),\n",
       " Text(0, 0, 'Jul'),\n",
       " Text(0, 0, 'Aug'),\n",
       " Text(0, 0, 'Sep'),\n",
       " Text(0, 0, 'Oct'),\n",
       " Text(0, 0, 'Nov'),\n",
       " Text(0, 0, 'Dec'),\n",
       " Text(0, 0, 'Jan\\n2011'),\n",
       " Text(0, 0, 'Feb'),\n",
       " Text(0, 0, 'Mar'),\n",
       " Text(0, 0, 'Apr'),\n",
       " Text(0, 0, 'May'),\n",
       " Text(0, 0, 'Jun'),\n",
       " Text(0, 0, 'Jul'),\n",
       " Text(0, 0, 'Aug'),\n",
       " Text(0, 0, 'Sep'),\n",
       " Text(0, 0, 'Oct'),\n",
       " Text(0, 0, 'Nov'),\n",
       " Text(0, 0, 'Dec'),\n",
       " Text(0, 0, 'Jan\\n2012'),\n",
       " Text(0, 0, 'Feb'),\n",
       " Text(0, 0, 'Mar'),\n",
       " Text(0, 0, 'Apr'),\n",
       " Text(0, 0, 'May'),\n",
       " Text(0, 0, 'Jun'),\n",
       " Text(0, 0, 'Jul'),\n",
       " Text(0, 0, 'Aug'),\n",
       " Text(0, 0, 'Sep'),\n",
       " Text(0, 0, 'Oct'),\n",
       " Text(0, 0, 'Nov'),\n",
       " Text(0, 0, 'Dec'),\n",
       " Text(0, 0, 'Jan\\n2013'),\n",
       " Text(0, 0, 'Feb'),\n",
       " Text(0, 0, 'Mar'),\n",
       " Text(0, 0, 'Apr'),\n",
       " Text(0, 0, 'May'),\n",
       " Text(0, 0, 'Jun'),\n",
       " Text(0, 0, 'Jul'),\n",
       " Text(0, 0, 'Aug'),\n",
       " Text(0, 0, 'Sep'),\n",
       " Text(0, 0, 'Oct'),\n",
       " Text(0, 0, 'Nov'),\n",
       " Text(0, 0, 'Dec'),\n",
       " Text(0, 0, 'Jan\\n2014'),\n",
       " Text(0, 0, 'Feb'),\n",
       " Text(0, 0, 'Mar'),\n",
       " Text(0, 0, 'Apr'),\n",
       " Text(0, 0, 'May'),\n",
       " Text(0, 0, 'Jun'),\n",
       " Text(0, 0, 'Jul'),\n",
       " Text(0, 0, 'Aug'),\n",
       " Text(0, 0, 'Sep'),\n",
       " Text(0, 0, 'Oct'),\n",
       " Text(0, 0, 'Nov'),\n",
       " Text(0, 0, 'Dec'),\n",
       " Text(0, 0, 'Jan\\n2015'),\n",
       " Text(0, 0, 'Feb'),\n",
       " Text(0, 0, 'Mar'),\n",
       " Text(0, 0, 'Apr'),\n",
       " Text(0, 0, 'May'),\n",
       " Text(0, 0, 'Jun'),\n",
       " Text(0, 0, 'Jul'),\n",
       " Text(0, 0, 'Aug'),\n",
       " Text(0, 0, 'Sep'),\n",
       " Text(0, 0, 'Oct'),\n",
       " Text(0, 0, 'Nov'),\n",
       " Text(0, 0, 'Dec'),\n",
       " Text(0, 0, 'Jan\\n2016'),\n",
       " Text(0, 0, 'Feb'),\n",
       " Text(0, 0, 'Mar'),\n",
       " Text(0, 0, 'Apr'),\n",
       " Text(0, 0, 'May'),\n",
       " Text(0, 0, 'Jun'),\n",
       " Text(0, 0, 'Jul'),\n",
       " Text(0, 0, 'Aug'),\n",
       " Text(0, 0, 'Sep'),\n",
       " Text(0, 0, 'Oct'),\n",
       " Text(0, 0, 'Nov'),\n",
       " Text(0, 0, 'Dec'),\n",
       " Text(0, 0, 'Jan\\n2017'),\n",
       " Text(0, 0, 'Feb'),\n",
       " Text(0, 0, 'Mar'),\n",
       " Text(0, 0, 'Apr'),\n",
       " Text(0, 0, 'May'),\n",
       " Text(0, 0, 'Jun'),\n",
       " Text(0, 0, 'Jul'),\n",
       " Text(0, 0, 'Aug'),\n",
       " Text(0, 0, 'Sep'),\n",
       " Text(0, 0, 'Oct'),\n",
       " Text(0, 0, 'Nov'),\n",
       " Text(0, 0, 'Dec'),\n",
       " Text(0, 0, 'Jan\\n2018'),\n",
       " Text(0, 0, 'Feb'),\n",
       " Text(0, 0, 'Mar'),\n",
       " Text(0, 0, 'Apr'),\n",
       " Text(0, 0, 'May'),\n",
       " Text(0, 0, 'Jun'),\n",
       " Text(0, 0, 'Jul'),\n",
       " Text(0, 0, 'Aug'),\n",
       " Text(0, 0, 'Sep'),\n",
       " Text(0, 0, 'Oct'),\n",
       " Text(0, 0, 'Nov'),\n",
       " Text(0, 0, 'Dec'),\n",
       " Text(0, 0, 'Jan\\n2019'),\n",
       " Text(0, 0, 'Feb'),\n",
       " Text(0, 0, 'Mar'),\n",
       " Text(0, 0, 'Apr'),\n",
       " Text(0, 0, 'May'),\n",
       " Text(0, 0, 'Jun'),\n",
       " Text(0, 0, 'Jul'),\n",
       " Text(0, 0, 'Aug'),\n",
       " Text(0, 0, 'Sep'),\n",
       " Text(0, 0, 'Oct'),\n",
       " Text(0, 0, 'Nov'),\n",
       " Text(0, 0, 'Dec'),\n",
       " Text(0, 0, 'Jan\\n2020'),\n",
       " Text(0, 0, 'Feb'),\n",
       " Text(0, 0, 'Mar')]"
      ]
     },
     "execution_count": 41,
     "metadata": {},
     "output_type": "execute_result"
    },
    {
     "data": {
      "image/png": "[encoded data removed]",
      "text/plain": [
       "<Figure size 1800x864 with 1 Axes>"
      ]
     },
     "metadata": {},
     "output_type": "display_data"
    }
   ],
   "source": [
    "def axis_format(label):\n",
    "    \"\"\" Convert time label to the format of pandas line plot \"\"\"\n",
    "    \n",
    "    month = label.month_name()[:3]\n",
    "    if month == 'Jan':\n",
    "        month += f'\\n{label.year}'\n",
    "    return month\n",
    "\n",
    "gr_reviews_df_gz_new = reviews_df_gz_new.groupby(pd.Grouper(freq='M'))  # DataFrameGroupBy (grouped by Month)\n",
    "cnt_reviews_df_gz_new = gr_reviews_df_gz_new.count()['id']\n",
    "ax = cnt_reviews_df_gz_new.plot(kind='bar')\n",
    "\n",
    "# set a new name for a-axis\n",
    "x_axis = [axis_format(x) for x in cnt_reviews_df_gz_new.index]\n",
    "ax.set_xticklabels(x_axis)"
   ]
  },
  {
   "cell_type": "markdown",
   "metadata": {},
   "source": [
    "Split date into day, month and year for further data processing."
   ]
  },
  {
   "cell_type": "code",
   "execution_count": 42,
   "metadata": {},
   "outputs": [
    {
     "data": {
      "text/html": [
       "<div>\n",
       "<style scoped>\n",
       "    .dataframe tbody tr th:only-of-type {\n",
       "        vertical-align: middle;\n",
       "    }\n",
       "\n",
       "    .dataframe tbody tr th {\n",
       "        vertical-align: top;\n",
       "    }\n",
       "\n",
       "    .dataframe thead th {\n",
       "        text-align: right;\n",
       "    }\n",
       "</style>\n",
       "<table border=\"1\" class=\"dataframe\">\n",
       "  <thead>\n",
       "    <tr style=\"text-align: right;\">\n",
       "      <th></th>\n",
       "      <th>listing_id</th>\n",
       "      <th>id</th>\n",
       "      <th>date</th>\n",
       "      <th>reviewer_id</th>\n",
       "      <th>reviewer_name</th>\n",
       "      <th>comments</th>\n",
       "      <th>day</th>\n",
       "      <th>month</th>\n",
       "      <th>year</th>\n",
       "    </tr>\n",
       "    <tr>\n",
       "      <th>date_new</th>\n",
       "      <th></th>\n",
       "      <th></th>\n",
       "      <th></th>\n",
       "      <th></th>\n",
       "      <th></th>\n",
       "      <th></th>\n",
       "      <th></th>\n",
       "      <th></th>\n",
       "      <th></th>\n",
       "    </tr>\n",
       "  </thead>\n",
       "  <tbody>\n",
       "    <tr>\n",
       "      <th>2009-06-20</th>\n",
       "      <td>3176</td>\n",
       "      <td>4283</td>\n",
       "      <td>2009-06-20</td>\n",
       "      <td>21475</td>\n",
       "      <td>Milan</td>\n",
       "      <td>excellent stay, i would highly recommend it. a...</td>\n",
       "      <td>20</td>\n",
       "      <td>6</td>\n",
       "      <td>2009</td>\n",
       "    </tr>\n",
       "    <tr>\n",
       "      <th>2010-11-07</th>\n",
       "      <td>3176</td>\n",
       "      <td>134722</td>\n",
       "      <td>2010-11-07</td>\n",
       "      <td>263467</td>\n",
       "      <td>George</td>\n",
       "      <td>Britta's apartment in Berlin is in a great are...</td>\n",
       "      <td>7</td>\n",
       "      <td>11</td>\n",
       "      <td>2010</td>\n",
       "    </tr>\n",
       "    <tr>\n",
       "      <th>2010-11-24</th>\n",
       "      <td>3176</td>\n",
       "      <td>144064</td>\n",
       "      <td>2010-11-24</td>\n",
       "      <td>76726</td>\n",
       "      <td>Patricia</td>\n",
       "      <td>Fantastic, large place in good location. Only ...</td>\n",
       "      <td>24</td>\n",
       "      <td>11</td>\n",
       "      <td>2010</td>\n",
       "    </tr>\n",
       "    <tr>\n",
       "      <th>2010-12-21</th>\n",
       "      <td>3176</td>\n",
       "      <td>156702</td>\n",
       "      <td>2010-12-21</td>\n",
       "      <td>291657</td>\n",
       "      <td>Benedetta</td>\n",
       "      <td>L'appartamento di Britta è molto largo carino ...</td>\n",
       "      <td>21</td>\n",
       "      <td>12</td>\n",
       "      <td>2010</td>\n",
       "    </tr>\n",
       "    <tr>\n",
       "      <th>2011-01-04</th>\n",
       "      <td>3176</td>\n",
       "      <td>165048</td>\n",
       "      <td>2011-01-04</td>\n",
       "      <td>279789</td>\n",
       "      <td>Aude</td>\n",
       "      <td>We went in Berlin for the new year eve. The ap...</td>\n",
       "      <td>4</td>\n",
       "      <td>1</td>\n",
       "      <td>2011</td>\n",
       "    </tr>\n",
       "  </tbody>\n",
       "</table>\n",
       "</div>"
      ],
      "text/plain": [
       "            listing_id      id        date  reviewer_id reviewer_name  \\\n",
       "date_new                                                                \n",
       "2009-06-20        3176    4283  2009-06-20        21475         Milan   \n",
       "2010-11-07        3176  134722  2010-11-07       263467        George   \n",
       "2010-11-24        3176  144064  2010-11-24        76726      Patricia   \n",
       "2010-12-21        3176  156702  2010-12-21       291657     Benedetta   \n",
       "2011-01-04        3176  165048  2011-01-04       279789          Aude   \n",
       "\n",
       "                                                     comments  day  month  \\\n",
       "date_new                                                                    \n",
       "2009-06-20  excellent stay, i would highly recommend it. a...   20      6   \n",
       "2010-11-07  Britta's apartment in Berlin is in a great are...    7     11   \n",
       "2010-11-24  Fantastic, large place in good location. Only ...   24     11   \n",
       "2010-12-21  L'appartamento di Britta è molto largo carino ...   21     12   \n",
       "2011-01-04  We went in Berlin for the new year eve. The ap...    4      1   \n",
       "\n",
       "            year  \n",
       "date_new          \n",
       "2009-06-20  2009  \n",
       "2010-11-07  2010  \n",
       "2010-11-24  2010  \n",
       "2010-12-21  2010  \n",
       "2011-01-04  2011  "
      ]
     },
     "execution_count": 42,
     "metadata": {},
     "output_type": "execute_result"
    }
   ],
   "source": [
    "reviews_df_gz_new['day'] = reviews_df_gz_new.index.day\n",
    "reviews_df_gz_new['month'] = reviews_df_gz_new.index.month\n",
    "reviews_df_gz_new['year'] = reviews_df_gz_new.index.year\n",
    "\n",
    "reviews_df_gz_new.head(5)"
   ]
  },
  {
   "cell_type": "markdown",
   "metadata": {},
   "source": [
    "#### <u>Question</u>: How data is distributed within a single year?"
   ]
  },
  {
   "cell_type": "code",
   "execution_count": 43,
   "metadata": {},
   "outputs": [
    {
     "data": {
      "image/png": "[encoded data removed]",
      "text/plain": [
       "<Figure size 1800x864 with 1 Axes>"
      ]
     },
     "metadata": {},
     "output_type": "display_data"
    }
   ],
   "source": [
    "gr_reviews_df_gz_new = reviews_df_gz_new[reviews_df_gz_new['year'] == 2016].groupby(pd.Grouper(freq='M'))\n",
    "cnt_reviews_df_gz_new = gr_reviews_df_gz_new.count()['id']\n",
    "ax = cnt_reviews_df_gz_new.plot(kind='bar')"
   ]
  },
  {
   "cell_type": "markdown",
   "metadata": {},
   "source": [
    "#### <u>Question</u>: How data is distributed within a multiple years?"
   ]
  },
  {
   "cell_type": "code",
   "execution_count": 44,
   "metadata": {},
   "outputs": [
    {
     "data": {
      "text/plain": [
       "<matplotlib.axes._subplots.AxesSubplot at 0x1ad86824278>"
      ]
     },
     "execution_count": 44,
     "metadata": {},
     "output_type": "execute_result"
    },
    {
     "data": {
      "image/png": "[encoded data removed]",
      "text/plain": [
       "<Figure size 1800x864 with 1 Axes>"
      ]
     },
     "metadata": {},
     "output_type": "display_data"
    }
   ],
   "source": [
    "#\n",
    "# Gathering data together by the year and plotting the data later on\n",
    "#\n",
    "\n",
    "gr_reviews_df_gz_2016 = reviews_df_gz_new[reviews_df_gz_new['year'] == 2016].groupby(pd.Grouper(freq='M'))\n",
    "gr_reviews_df_gz_2017 = reviews_df_gz_new[reviews_df_gz_new['year'] == 2017].groupby(pd.Grouper(freq='M'))\n",
    "gr_reviews_df_gz_2018 = reviews_df_gz_new[reviews_df_gz_new['year'] == 2018].groupby(pd.Grouper(freq='M'))\n",
    "\n",
    "\n",
    "_gr_reviews_df_gz_2016 = gr_reviews_df_gz_2016.count()['id'].reset_index()\n",
    "_gr_reviews_df_gz_2016 = _gr_reviews_df_gz_2016.drop(['date_new'], axis=1)\n",
    "\n",
    "_gr_reviews_df_gz_2017 = gr_reviews_df_gz_2017.count()['id'].reset_index()\n",
    "_gr_reviews_df_gz_2017 = _gr_reviews_df_gz_2017.drop(['date_new'], axis=1)\n",
    "\n",
    "_gr_reviews_df_gz_2018 = gr_reviews_df_gz_2018.count()['id'].reset_index()\n",
    "_gr_reviews_df_gz_2018 = _gr_reviews_df_gz_2018.drop(['date_new'], axis=1)\n",
    "\n",
    "\n",
    "mult_years_df = pd.concat([_gr_reviews_df_gz_2016,\n",
    "                          _gr_reviews_df_gz_2017, \n",
    "                          _gr_reviews_df_gz_2018], \n",
    "                         axis=1, ignore_index=True)\n",
    "mult_years_df.columns = ['2016', '2017', '2018']\n",
    "mult_years_df.plot(kind='bar')"
   ]
  },
  {
   "cell_type": "markdown",
   "metadata": {},
   "source": [
    "#### <u>Question</u>: How data is distributed within a multiple years?\n",
    "\n",
    "Calculating percentage of the comments."
   ]
  },
  {
   "cell_type": "code",
   "execution_count": 45,
   "metadata": {},
   "outputs": [],
   "source": [
    "# sample -> single year\n",
    "# mult_years_df['2016_percentage'] = (100 * mult_years_df['2016']) / mult_years_df['2016'].sum()"
   ]
  },
  {
   "cell_type": "code",
   "execution_count": 46,
   "metadata": {},
   "outputs": [
    {
     "name": "stdout",
     "output_type": "stream",
     "text": [
      "For column \"2016\" check sum of percentage: 100.00\n",
      "For column \"2017\" check sum of percentage: 100.00\n",
      "For column \"2018\" check sum of percentage: 100.00\n"
     ]
    },
    {
     "data": {
      "text/plain": [
       "Index(['2016', '2017', '2018', '2016_percentage', '2017_percentage',\n",
       "       '2018_percentage'],\n",
       "      dtype='object')"
      ]
     },
     "execution_count": 46,
     "metadata": {},
     "output_type": "execute_result"
    }
   ],
   "source": [
    "# all years at once\n",
    "for column in mult_years_df.columns:\n",
    "    # take only original columns with year as name\n",
    "    if len(column) == 4:\n",
    "        mult_years_df['{0}_percentage'.format(column)] = (100 * mult_years_df[column]) / mult_years_df[column].sum()\n",
    "        print('For column \"{0}\" check sum of percentage: {1:0.2f}'.format(column, \n",
    "                                                                     mult_years_df['{0}_percentage'.format(column)].sum()))\n",
    "        \n",
    "mult_years_df.columns"
   ]
  },
  {
   "cell_type": "code",
   "execution_count": 47,
   "metadata": {},
   "outputs": [
    {
     "data": {
      "text/plain": [
       "[Text(0, 0, 'January'),\n",
       " Text(0, 0, 'February'),\n",
       " Text(0, 0, 'March'),\n",
       " Text(0, 0, 'April'),\n",
       " Text(0, 0, 'May'),\n",
       " Text(0, 0, 'June'),\n",
       " Text(0, 0, 'July'),\n",
       " Text(0, 0, 'August'),\n",
       " Text(0, 0, 'September'),\n",
       " Text(0, 0, 'October'),\n",
       " Text(0, 0, 'November'),\n",
       " Text(0, 0, 'December')]"
      ]
     },
     "execution_count": 47,
     "metadata": {},
     "output_type": "execute_result"
    },
    {
     "data": {
      "image/png": "[encoded data removed]",
      "text/plain": [
       "<Figure size 1800x864 with 1 Axes>"
      ]
     },
     "metadata": {},
     "output_type": "display_data"
    }
   ],
   "source": [
    "ax = mult_years_df[['2016_percentage', '2017_percentage', '2018_percentage']].plot(kind='bar')\n",
    "\n",
    "# set a new name for a-axis\n",
    "x_axis = ['January','February','March','April','May','June','July','August','September','October','November','December']\n",
    "ax.set_xticklabels(x_axis)"
   ]
  }
 ],
 "metadata": {
  "kernelspec": {
   "display_name": "Python 3",
   "language": "python",
   "name": "python3"
  },
  "language_info": {
   "codemirror_mode": {
    "name": "ipython",
    "version": 3
   },
   "file_extension": ".py",
   "mimetype": "text/x-python",
   "name": "python",
   "nbconvert_exporter": "python",
   "pygments_lexer": "ipython3",
   "version": "3.7.3"
  }
 },
 "nbformat": 4,
 "nbformat_minor": 2
}
